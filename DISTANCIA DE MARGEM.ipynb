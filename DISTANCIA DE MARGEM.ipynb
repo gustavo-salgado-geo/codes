{
 "cells": [
  {
   "cell_type": "code",
   "execution_count": 1,
   "id": "7368e407-1bb6-423b-921f-f202a9917932",
   "metadata": {},
   "outputs": [],
   "source": [
    "import pandas as pd\n",
    "import geopandas as gpd\n",
    "from shapely.geometry import LineString, MultiLineString\n",
    "from shapely.ops import nearest_points\n",
    "from tqdm import tqdm"
   ]
  },
  {
   "cell_type": "code",
   "execution_count": 3,
   "id": "3494fe12-4b7e-4f3d-b56a-339377b7cf4b",
   "metadata": {},
   "outputs": [],
   "source": [
    "# Carregar os dados\n",
    "tracking_GPS = gpd.read_file(\"C:/Users/gus_h/OneDrive/Área de Trabalho/Dissertação/1 - CAMINHOS RODOFLUVIAIS/VERTICES TRAJETOS CENSO - 102033/VERTICES TRAJETOS CENSO - 102033.shp\")\n",
    "poligonos = gpd.read_file(\"C:/Users/gus_h/OneDrive/Área de Trabalho/Dissertação/1 - CAMINHOS RODOFLUVIAIS/TERRA FIRME BAIXO TOCANTINS - PARTES SIMPLES - 102033/TERRA FIRME BAIXO TOCANTINS - PARTES SIMPLES - 102033.shp\")"
   ]
  },
  {
   "cell_type": "code",
   "execution_count": 5,
   "id": "ae45b18c-5d50-46f9-b570-b786ad8e9f47",
   "metadata": {},
   "outputs": [
    {
     "name": "stdout",
     "output_type": "stream",
     "text": [
      "      CD_MUN NM_MUN SIGLA_UF   ID  \\\n",
      "0    1501204  Baião       PA    0   \n",
      "1    1501204  Baião       PA    1   \n",
      "2    1501204  Baião       PA    2   \n",
      "3    1501204  Baião       PA    3   \n",
      "4    1501204  Baião       PA    4   \n",
      "..       ...    ...      ...  ...   \n",
      "615  1501204  Baião       PA  615   \n",
      "616  1501204  Baião       PA  616   \n",
      "617  1501204  Baião       PA  617   \n",
      "618  1501204  Baião       PA  618   \n",
      "619  1501204  Baião       PA  619   \n",
      "\n",
      "                                              geometry  \n",
      "0    POLYGON ((654069.692 9611078.066, 654068.268 9...  \n",
      "1    POLYGON ((640683.564 9664624.821, 640728.876 9...  \n",
      "2    POLYGON ((640767.034 9664727.257, 640762.498 9...  \n",
      "3    POLYGON ((640411.055 9665112.566, 640413.404 9...  \n",
      "4    POLYGON ((640152.799 9665481.197, 640113.646 9...  \n",
      "..                                                 ...  \n",
      "615  POLYGON ((713623.633 9799976.032, 713587.844 9...  \n",
      "616  POLYGON ((713176.73 9800105.451, 713118.098 98...  \n",
      "617  POLYGON ((710252.409 9801972.22, 710281.381 98...  \n",
      "618  POLYGON ((709921.796 9801890.079, 709898.507 9...  \n",
      "619  POLYGON ((710446.772 9802449.67, 710445.016 98...  \n",
      "\n",
      "[620 rows x 5 columns]\n"
     ]
    }
   ],
   "source": [
    "# Definir um CRS projetado, por exemplo, UTM\n",
    "crs_projetado = \"EPSG:31982\"  # \n",
    "pontos = tracking_GPS.to_crs(crs_projetado)\n",
    "poligonos = poligonos.to_crs(crs_projetado)\n",
    "poligonos = poligonos.drop(columns=['AREA_KM2', 'osm_id', 'code', 'fclass', 'name']) #retirando colunas indesejadas\n",
    "\n",
    "\n",
    "print(poligonos)"
   ]
  },
  {
   "cell_type": "code",
   "execution_count": 7,
   "id": "ebdcbb31-d9a2-443e-a8b7-7d0fa58bca40",
   "metadata": {},
   "outputs": [],
   "source": [
    "def encontrar_poligono_mais_proximo(ponto, poligonos):\n",
    "    if ponto.is_empty:  # Verifica se o ponto não está vazio\n",
    "        return None, None, None\n",
    "    \n",
    "    distancias = poligonos.geometry.distance(ponto) # Calcula as distâncias entre o ponto e todos os polígonos\n",
    "    \n",
    "    indice_mais_proximo = distancias.idxmin()  # Encontra o índice do polígono mais próximo\n",
    "    poligono_mais_proximo = poligonos.geometry[indice_mais_proximo] # Obtém o polígono mais próximo\n",
    "    \n",
    "    id_poligono_mais_proximo = poligonos['ID'].iloc[indice_mais_proximo]  # Obtém o ID do polígono mais próximo\n",
    "    \n",
    "    ponto_mais_proximo = nearest_points(ponto, poligono_mais_proximo)[1] # Calcula o ponto no polígono que esteja mais próximo da coordenada GPS\n",
    "    \n",
    "    linha = LineString([ponto, ponto_mais_proximo]) # Cria uma linha entre o ponto e o ponto mais próximo do polígono\n",
    "    \n",
    "    # Cria um GeoDataFrame para armazenar a linha e o ID do polígono\n",
    "    linha_com_id = gpd.GeoDataFrame(geometry=[linha], data={'id_poligono': [id_poligono_mais_proximo]})\n",
    "     \n",
    "    return linha_com_id"
   ]
  },
  {
   "cell_type": "code",
   "execution_count": 9,
   "id": "9a05057e-a56d-4487-9de7-76b1d1f596ee",
   "metadata": {},
   "outputs": [],
   "source": [
    "# Inicializa listas para armazenar os resultados\n",
    "linhas_resultantes = []\n",
    "ids_proximos = []"
   ]
  },
  {
   "cell_type": "code",
   "execution_count": 11,
   "id": "ca65a770-978a-476a-bbcc-58d979e5c392",
   "metadata": {},
   "outputs": [
    {
     "name": "stderr",
     "output_type": "stream",
     "text": [
      "100%|████████████████████████████████████████████████████████████████████████████| 41030/41030 [09:08<00:00, 74.82it/s]\n"
     ]
    }
   ],
   "source": [
    "# Itera sobre cada ponto e armazena os resultados\n",
    "for index, row in tqdm(pontos.iterrows(), total=pontos.shape[0]):\n",
    "    ponto_geom = row.geometry  # Acessa a geometria do ponto\n",
    "    \n",
    "    if ponto_geom is not None:  # Verifica se a geometria do ponto é válida\n",
    "        resultado = encontrar_poligono_mais_proximo(ponto_geom, poligonos)  # Chama a função\n",
    "        \n",
    "        if resultado is not None:  # Verifica se o resultado não é None\n",
    "            linha = resultado.geometry.values[0]  # Acessa a geometria da linha\n",
    "            linhas_resultantes.append(linha)  # Armazena a geometria da linha\n",
    "            \n",
    "            id_poligono = resultado['id_poligono'].values[0]  # Acessa o ID do polígono\n",
    "            ids_proximos.append(id_poligono)  # Armazena o ID do polígono"
   ]
  },
  {
   "cell_type": "code",
   "execution_count": 13,
   "id": "a873f81e-5689-4d1f-b5f7-0896dae72cba",
   "metadata": {},
   "outputs": [],
   "source": [
    "# Cria um DataFrame com as linhas e os IDs dos polígonos\n",
    "resultado_df = gpd.GeoDataFrame({\n",
    "    'linha': linhas_resultantes,\n",
    "    'id_poligono': ids_proximos\n",
    "})"
   ]
  },
  {
   "cell_type": "code",
   "execution_count": 15,
   "id": "2b2232ef-0364-4b67-9f59-2d923ac00f5a",
   "metadata": {},
   "outputs": [
    {
     "data": {
      "text/html": [
       "<div>\n",
       "<style scoped>\n",
       "    .dataframe tbody tr th:only-of-type {\n",
       "        vertical-align: middle;\n",
       "    }\n",
       "\n",
       "    .dataframe tbody tr th {\n",
       "        vertical-align: top;\n",
       "    }\n",
       "\n",
       "    .dataframe thead th {\n",
       "        text-align: right;\n",
       "    }\n",
       "</style>\n",
       "<table border=\"1\" class=\"dataframe\">\n",
       "  <thead>\n",
       "    <tr style=\"text-align: right;\">\n",
       "      <th></th>\n",
       "      <th>linha</th>\n",
       "      <th>id_poligono</th>\n",
       "    </tr>\n",
       "  </thead>\n",
       "  <tbody>\n",
       "    <tr>\n",
       "      <th>0</th>\n",
       "      <td>LINESTRING (652854.686 9656206.853, 652854.686...</td>\n",
       "      <td>142</td>\n",
       "    </tr>\n",
       "    <tr>\n",
       "      <th>1</th>\n",
       "      <td>LINESTRING (652852.045 9656259.164, 652830.221...</td>\n",
       "      <td>142</td>\n",
       "    </tr>\n",
       "    <tr>\n",
       "      <th>2</th>\n",
       "      <td>LINESTRING (652843.613 9656271.315, 652820.691...</td>\n",
       "      <td>142</td>\n",
       "    </tr>\n",
       "    <tr>\n",
       "      <th>3</th>\n",
       "      <td>LINESTRING (652818.194 9656290.952, 652800.275...</td>\n",
       "      <td>142</td>\n",
       "    </tr>\n",
       "    <tr>\n",
       "      <th>4</th>\n",
       "      <td>LINESTRING (652798.904 9656319.503, 652778.911...</td>\n",
       "      <td>142</td>\n",
       "    </tr>\n",
       "    <tr>\n",
       "      <th>...</th>\n",
       "      <td>...</td>\n",
       "      <td>...</td>\n",
       "    </tr>\n",
       "    <tr>\n",
       "      <th>40656</th>\n",
       "      <td>LINESTRING (655997.023 9707964.032, 656017.326...</td>\n",
       "      <td>155</td>\n",
       "    </tr>\n",
       "    <tr>\n",
       "      <th>40657</th>\n",
       "      <td>LINESTRING (655995.058 9707989.473, 656017.001...</td>\n",
       "      <td>155</td>\n",
       "    </tr>\n",
       "    <tr>\n",
       "      <th>40658</th>\n",
       "      <td>LINESTRING (656007.769 9708024.684, 656023.336...</td>\n",
       "      <td>155</td>\n",
       "    </tr>\n",
       "    <tr>\n",
       "      <th>40659</th>\n",
       "      <td>LINESTRING (656375.925 9707430.346, 656375.925...</td>\n",
       "      <td>202</td>\n",
       "    </tr>\n",
       "    <tr>\n",
       "      <th>40660</th>\n",
       "      <td>LINESTRING (656375.763 9707441.654, 656371.987...</td>\n",
       "      <td>202</td>\n",
       "    </tr>\n",
       "  </tbody>\n",
       "</table>\n",
       "<p>40661 rows × 2 columns</p>\n",
       "</div>"
      ],
      "text/plain": [
       "                                                   linha  id_poligono\n",
       "0      LINESTRING (652854.686 9656206.853, 652854.686...          142\n",
       "1      LINESTRING (652852.045 9656259.164, 652830.221...          142\n",
       "2      LINESTRING (652843.613 9656271.315, 652820.691...          142\n",
       "3      LINESTRING (652818.194 9656290.952, 652800.275...          142\n",
       "4      LINESTRING (652798.904 9656319.503, 652778.911...          142\n",
       "...                                                  ...          ...\n",
       "40656  LINESTRING (655997.023 9707964.032, 656017.326...          155\n",
       "40657  LINESTRING (655995.058 9707989.473, 656017.001...          155\n",
       "40658  LINESTRING (656007.769 9708024.684, 656023.336...          155\n",
       "40659  LINESTRING (656375.925 9707430.346, 656375.925...          202\n",
       "40660  LINESTRING (656375.763 9707441.654, 656371.987...          202\n",
       "\n",
       "[40661 rows x 2 columns]"
      ]
     },
     "execution_count": 15,
     "metadata": {},
     "output_type": "execute_result"
    }
   ],
   "source": [
    "# Define a coluna de geometria\n",
    "resultado_df.set_geometry('linha', inplace=True)\n",
    "\n",
    "# Define o CRS\n",
    "resultado_df.set_crs(epsg=31982, inplace=True)"
   ]
  },
  {
   "cell_type": "code",
   "execution_count": 17,
   "id": "6d0c9a95-dc02-4e63-8fbe-77c6f77751e1",
   "metadata": {},
   "outputs": [
    {
     "name": "stdout",
     "output_type": "stream",
     "text": [
      "                                                   linha  id_poligono  \\\n",
      "0      LINESTRING (652854.686 9656206.853, 652854.686...          142   \n",
      "1      LINESTRING (652852.045 9656259.164, 652830.221...          142   \n",
      "2      LINESTRING (652843.613 9656271.315, 652820.691...          142   \n",
      "3      LINESTRING (652818.194 9656290.952, 652800.275...          142   \n",
      "4      LINESTRING (652798.904 9656319.503, 652778.911...          142   \n",
      "...                                                  ...          ...   \n",
      "40656  LINESTRING (655997.023 9707964.032, 656017.326...          155   \n",
      "40657  LINESTRING (655995.058 9707989.473, 656017.001...          155   \n",
      "40658  LINESTRING (656007.769 9708024.684, 656023.336...          155   \n",
      "40659  LINESTRING (656375.925 9707430.346, 656375.925...          202   \n",
      "40660  LINESTRING (656375.763 9707441.654, 656371.987...          202   \n",
      "\n",
      "       comp_metro  \n",
      "0        0.000001  \n",
      "1       28.636685  \n",
      "2       30.078293  \n",
      "3       23.188452  \n",
      "4       25.002382  \n",
      "...           ...  \n",
      "40656   23.142113  \n",
      "40657   21.948004  \n",
      "40658   16.609636  \n",
      "40659    0.000006  \n",
      "40660   10.492109  \n",
      "\n",
      "[40661 rows x 3 columns]\n"
     ]
    }
   ],
   "source": [
    "# Calcula o comprimento das linhas em metros\n",
    "resultado_df['comp_metro'] = resultado_df['linha'].length\n",
    "#resultado_df.drop(columns=['tamanho_metros'], inplace=True)\n",
    "print(resultado_df)"
   ]
  },
  {
   "cell_type": "code",
   "execution_count": 19,
   "id": "b8c88cdb-0d0b-470d-8fb7-0dc4660a1c39",
   "metadata": {},
   "outputs": [],
   "source": [
    "# TIRANDO TODAS AS DISTANCIAS MAIORES QUE 300 METROS E MENORES QUE 10 METROS\n",
    "resultado_df = resultado_df[(resultado_df['comp_metro'] >= 10) & (resultado_df['comp_metro'] <= 300)]"
   ]
  },
  {
   "cell_type": "code",
   "execution_count": 21,
   "id": "bdd91121-c77e-465b-b31e-71bbfd38057c",
   "metadata": {},
   "outputs": [],
   "source": [
    "# Agrupa por 'id_poligono' e calcula média e mediana\n",
    "estatisticas = resultado_df.groupby('id_poligono')['comp_metro'].agg(['mean', 'median']).reset_index()"
   ]
  },
  {
   "cell_type": "code",
   "execution_count": 23,
   "id": "5f79abbd-8f02-4984-8da9-fab6f029d485",
   "metadata": {},
   "outputs": [],
   "source": [
    "# Renomeando as colunas\n",
    "estatisticas.columns = ['ID', 'nav_media', 'nav_mediana']"
   ]
  },
  {
   "cell_type": "code",
   "execution_count": 25,
   "id": "79a35e39-41a3-464a-92b2-e7da5907a0a1",
   "metadata": {},
   "outputs": [],
   "source": [
    "# Realizando o merge com as Estatisticas\n",
    "poligonos = poligonos.merge(estatisticas, on='ID', how='left')"
   ]
  },
  {
   "cell_type": "code",
   "execution_count": 27,
   "id": "ff580ba5-7a5c-4e82-9273-e71747a06511",
   "metadata": {},
   "outputs": [
    {
     "name": "stdout",
     "output_type": "stream",
     "text": [
      "      CD_MUN NM_MUN SIGLA_UF   ID  \\\n",
      "0    1501204  Baião       PA    0   \n",
      "1    1501204  Baião       PA    1   \n",
      "2    1501204  Baião       PA    2   \n",
      "3    1501204  Baião       PA    3   \n",
      "4    1501204  Baião       PA    4   \n",
      "..       ...    ...      ...  ...   \n",
      "615  1501204  Baião       PA  615   \n",
      "616  1501204  Baião       PA  616   \n",
      "617  1501204  Baião       PA  617   \n",
      "618  1501204  Baião       PA  618   \n",
      "619  1501204  Baião       PA  619   \n",
      "\n",
      "                                              geometry  nav_media  \\\n",
      "0    POLYGON ((654069.692 9611078.066, 654068.268 9...  70.814157   \n",
      "1    POLYGON ((640683.564 9664624.821, 640728.876 9...        NaN   \n",
      "2    POLYGON ((640767.034 9664727.257, 640762.498 9...        NaN   \n",
      "3    POLYGON ((640411.055 9665112.566, 640413.404 9...        NaN   \n",
      "4    POLYGON ((640152.799 9665481.197, 640113.646 9...        NaN   \n",
      "..                                                 ...        ...   \n",
      "615  POLYGON ((713623.633 9799976.032, 713587.844 9...        NaN   \n",
      "616  POLYGON ((713176.73 9800105.451, 713118.098 98...        NaN   \n",
      "617  POLYGON ((710252.409 9801972.22, 710281.381 98...        NaN   \n",
      "618  POLYGON ((709921.796 9801890.079, 709898.507 9...        NaN   \n",
      "619  POLYGON ((710446.772 9802449.67, 710445.016 98...        NaN   \n",
      "\n",
      "     nav_mediana     area_km2  \n",
      "0      35.154586  3914.211239  \n",
      "1            NaN     0.014868  \n",
      "2            NaN     0.001520  \n",
      "3            NaN     0.062926  \n",
      "4            NaN     0.005653  \n",
      "..           ...          ...  \n",
      "615          NaN     0.007785  \n",
      "616          NaN     0.128729  \n",
      "617          NaN     0.000082  \n",
      "618          NaN     0.046150  \n",
      "619          NaN     0.089094  \n",
      "\n",
      "[620 rows x 8 columns]\n"
     ]
    }
   ],
   "source": [
    "# Calcular a área e adicionar como nova coluna\n",
    "poligonos['area_km2'] = poligonos.geometry.area / 1e6  # Converte de m² para km²\n",
    "\n",
    "# Exibindo o resultado\n",
    "print(poligonos)\n",
    "\n",
    "#poligonos.to_file('C:/Users/gus_h/Downloads/poligonos_fase1.shp')"
   ]
  },
  {
   "cell_type": "code",
   "execution_count": null,
   "id": "27143295-79f9-4909-8b3a-59f40c19b746",
   "metadata": {},
   "outputs": [],
   "source": []
  },
  {
   "cell_type": "code",
   "execution_count": null,
   "id": "1bcaff80-dc6c-4ce0-99b6-f1419753d8fa",
   "metadata": {},
   "outputs": [],
   "source": []
  },
  {
   "cell_type": "code",
   "execution_count": null,
   "id": "d8fb22ef-b5c9-431b-b1d4-7c050a764e8f",
   "metadata": {},
   "outputs": [],
   "source": []
  },
  {
   "cell_type": "code",
   "execution_count": null,
   "id": "b4a4cb37-9aab-4e55-ba7c-f313738b1d1b",
   "metadata": {},
   "outputs": [],
   "source": []
  },
  {
   "cell_type": "code",
   "execution_count": null,
   "id": "7fccf476-0ea0-4de4-8f9c-29547153a0d8",
   "metadata": {},
   "outputs": [],
   "source": []
  },
  {
   "cell_type": "code",
   "execution_count": 29,
   "id": "5a3520e3-8e84-42e8-979f-8329272b18fa",
   "metadata": {},
   "outputs": [],
   "source": [
    "# Criar uma cópia do DataFrame para evitar modificações no original\n",
    "poligonos_copy = poligonos.copy()"
   ]
  },
  {
   "cell_type": "code",
   "execution_count": 31,
   "id": "d21d79d8-fabd-435e-82d0-2ffe81814d84",
   "metadata": {},
   "outputs": [],
   "source": [
    "# Iterar sobre as linhas\n",
    "for index, row in poligonos_copy.iterrows():\n",
    "    # Verifica se a linha atual possui um valor válido em 'area_km2'\n",
    "    if pd.notna(row['area_km2']):\n",
    "        # Cria um DataFrame com linhas onde 'area_km2' não é nulo, excluindo a linha atual\n",
    "        closest_row = poligonos_copy.loc[(poligonos_copy['area_km2'].notna())&(poligonos_copy.index != index)].copy()\n",
    "    \n",
    "        # Calcula a diferença absoluta com as áreas existentes\n",
    "        closest_row['area_diff'] = (closest_row['area_km2'] - row['area_km2']).abs()\n",
    "        closest_rows = closest_row.sort_values(by='area_diff')\n",
    "\n",
    "        # Itera sobre as linhas mais próximas até encontrar valores válidos para 'nav_media' e 'nav_mediana'\n",
    "        for _, closest_row in closest_rows.iterrows():        \n",
    "            if pd.notna(closest_row['nav_media']) and pd.notna(closest_row['nav_mediana']):\n",
    "                 # Atribui valores válidos encontrados\n",
    "                poligonos_copy.at[index, 'nav_media'] = closest_row['nav_media']\n",
    "                poligonos_copy.at[index, 'nav_mediana'] = closest_row['nav_mediana']\n",
    "                break"
   ]
  },
  {
   "cell_type": "code",
   "execution_count": null,
   "id": "06947818-62ad-452d-95f3-847f5766f751",
   "metadata": {},
   "outputs": [],
   "source": []
  },
  {
   "cell_type": "code",
   "execution_count": null,
   "id": "7fadeac5-af20-4a68-8c22-2ce0613a6c36",
   "metadata": {},
   "outputs": [],
   "source": []
  },
  {
   "cell_type": "code",
   "execution_count": 33,
   "id": "ade929ec-851c-45aa-9ebc-ff77e02ff540",
   "metadata": {},
   "outputs": [
    {
     "name": "stdout",
     "output_type": "stream",
     "text": [
      "      CD_MUN NM_MUN SIGLA_UF   ID  \\\n",
      "0    1501204  Baião       PA    0   \n",
      "1    1501204  Baião       PA    1   \n",
      "2    1501204  Baião       PA    2   \n",
      "3    1501204  Baião       PA    3   \n",
      "4    1501204  Baião       PA    4   \n",
      "..       ...    ...      ...  ...   \n",
      "615  1501204  Baião       PA  615   \n",
      "616  1501204  Baião       PA  616   \n",
      "617  1501204  Baião       PA  617   \n",
      "618  1501204  Baião       PA  618   \n",
      "619  1501204  Baião       PA  619   \n",
      "\n",
      "                                              geometry   nav_media  \\\n",
      "0    POLYGON ((654069.692 9611078.066, 654068.268 9...   79.563334   \n",
      "1    POLYGON ((640683.564 9664624.821, 640728.876 9...  119.048431   \n",
      "2    POLYGON ((640767.034 9664727.257, 640762.498 9...   78.112054   \n",
      "3    POLYGON ((640411.055 9665112.566, 640413.404 9...   36.008604   \n",
      "4    POLYGON ((640152.799 9665481.197, 640113.646 9...  132.994920   \n",
      "..                                                 ...         ...   \n",
      "615  POLYGON ((713623.633 9799976.032, 713587.844 9...   32.956668   \n",
      "616  POLYGON ((713176.73 9800105.451, 713118.098 98...  151.631834   \n",
      "617  POLYGON ((710252.409 9801972.22, 710281.381 98...   41.299225   \n",
      "618  POLYGON ((709921.796 9801890.079, 709898.507 9...   33.221622   \n",
      "619  POLYGON ((710446.772 9802449.67, 710445.016 98...   25.805456   \n",
      "\n",
      "     nav_mediana     area_km2  \n",
      "0      47.477481  3914.211239  \n",
      "1     118.593640     0.014868  \n",
      "2      76.965498     0.001520  \n",
      "3      25.143051     0.062926  \n",
      "4     137.270772     0.005653  \n",
      "..           ...          ...  \n",
      "615    39.110849     0.007785  \n",
      "616   164.978983     0.128729  \n",
      "617    41.299225     0.000082  \n",
      "618    33.979801     0.046150  \n",
      "619    25.760926     0.089094  \n",
      "\n",
      "[620 rows x 8 columns]\n"
     ]
    }
   ],
   "source": [
    "# Exibindo o resultado atualizado\n",
    "print(poligonos_copy)"
   ]
  },
  {
   "cell_type": "code",
   "execution_count": 53,
   "id": "ae3e9915-7ac2-4c30-bab0-02797c85bb78",
   "metadata": {},
   "outputs": [],
   "source": [
    "# Aplica o buffer de acordo com o valor em nav_median e armazena em uma nova coluna\n",
    "poligonos_copy['buffered_geometry'] = poligonos_copy.geometry.buffer(poligonos_copy['nav_mediana'])\n",
    "\n",
    "# Substituir a geometria original pelo buffer\n",
    "poligonos_copy['geometry'] = poligonos_copy['buffered_geometry']\n",
    "\n",
    "# Remover a coluna de geometria extra\n",
    "poligonos_copy = poligonos_copy.drop(columns=['buffered_geometry'])"
   ]
  },
  {
   "cell_type": "code",
   "execution_count": null,
   "id": "fb47ea39-58e8-40e8-9769-5ed09038fd52",
   "metadata": {},
   "outputs": [],
   "source": []
  },
  {
   "cell_type": "code",
   "execution_count": 55,
   "id": "9eb88be8-9efb-4e02-b68d-aecb5e42c4b7",
   "metadata": {},
   "outputs": [
    {
     "name": "stdout",
     "output_type": "stream",
     "text": [
      "      CD_MUN NM_MUN SIGLA_UF   ID  \\\n",
      "0    1501204  Baião       PA    0   \n",
      "1    1501204  Baião       PA    1   \n",
      "2    1501204  Baião       PA    2   \n",
      "3    1501204  Baião       PA    3   \n",
      "4    1501204  Baião       PA    4   \n",
      "..       ...    ...      ...  ...   \n",
      "615  1501204  Baião       PA  615   \n",
      "616  1501204  Baião       PA  616   \n",
      "617  1501204  Baião       PA  617   \n",
      "618  1501204  Baião       PA  618   \n",
      "619  1501204  Baião       PA  619   \n",
      "\n",
      "                                              geometry   nav_media  \\\n",
      "0    POLYGON ((633957.913 9598945.849, 633814.563 9...   79.563334   \n",
      "1    POLYGON ((640683.842 9664862.008, 640686.949 9...  119.048431   \n",
      "2    POLYGON ((640755.472 9664543.224, 640741.577 9...   78.112054   \n",
      "3    POLYGON ((640332.626 9664955.484, 640330.534 9...   36.008604   \n",
      "4    POLYGON ((640334.914 9665275.754, 640330.209 9...  132.994920   \n",
      "..                                                 ...         ...   \n",
      "615  POLYGON ((713563.273 9799924.796, 713547.348 9...   32.956668   \n",
      "616  POLYGON ((710934.235 9799935.67, 710852.653 98...  151.631834   \n",
      "617  POLYGON ((710272.325 9801892.058, 710270.348 9...   41.299225   \n",
      "618  POLYGON ((709989.526 9801895.13, 709989.659 98...   33.221622   \n",
      "619  POLYGON ((710395.137 9802450.571, 710393.801 9...   25.805456   \n",
      "\n",
      "     nav_mediana     area_km2  \n",
      "0      47.477481  3914.211239  \n",
      "1     118.593640     0.014868  \n",
      "2      76.965498     0.001520  \n",
      "3      25.143051     0.062926  \n",
      "4     137.270772     0.005653  \n",
      "..           ...          ...  \n",
      "615    39.110849     0.007785  \n",
      "616   164.978983     0.128729  \n",
      "617    41.299225     0.000082  \n",
      "618    33.979801     0.046150  \n",
      "619    25.760926     0.089094  \n",
      "\n",
      "[620 rows x 8 columns]\n"
     ]
    }
   ],
   "source": [
    "print(poligonos_copy)"
   ]
  },
  {
   "cell_type": "code",
   "execution_count": null,
   "id": "e5ad4c29-a07f-45fb-b92f-de1fb7881bf4",
   "metadata": {},
   "outputs": [],
   "source": []
  },
  {
   "cell_type": "code",
   "execution_count": 57,
   "id": "71d21b08-9e4d-4b88-a68d-ae8604d97922",
   "metadata": {},
   "outputs": [
    {
     "name": "stderr",
     "output_type": "stream",
     "text": [
      "C:\\Users\\gus_h\\AppData\\Local\\Temp\\ipykernel_27188\\1614982787.py:1: UserWarning: Column names longer than 10 characters will be truncated when saved to ESRI Shapefile.\n",
      "  poligonos_copy.to_file('C:/Users/gus_h/Downloads/poligonos_copy.shp')\n",
      "C:\\Users\\gus_h\\anaconda3\\Lib\\site-packages\\pyogrio\\raw.py:709: RuntimeWarning: Normalized/laundered field name: 'nav_mediana' to 'nav_median'\n",
      "  ogr_write(\n"
     ]
    }
   ],
   "source": [
    "poligonos_copy.to_file('C:/Users/gus_h/Downloads/poligonos_copy.shp')"
   ]
  },
  {
   "cell_type": "code",
   "execution_count": null,
   "id": "ae619fe0-0cf1-4a32-93dd-76aef9272a8f",
   "metadata": {},
   "outputs": [],
   "source": []
  }
 ],
 "metadata": {
  "kernelspec": {
   "display_name": "Python 3 (ipykernel)",
   "language": "python",
   "name": "python3"
  },
  "language_info": {
   "codemirror_mode": {
    "name": "ipython",
    "version": 3
   },
   "file_extension": ".py",
   "mimetype": "text/x-python",
   "name": "python",
   "nbconvert_exporter": "python",
   "pygments_lexer": "ipython3",
   "version": "3.11.7"
  }
 },
 "nbformat": 4,
 "nbformat_minor": 5
}
